{
 "cells": [
  {
   "cell_type": "markdown",
   "metadata": {},
   "source": [
    "# Runge Kutta"
   ]
  },
  {
   "cell_type": "markdown",
   "metadata": {},
   "source": [
    "https://web.mit.edu/10.001/Web/Course_Notes/Differential_Equations_Notes/node5.html"
   ]
  },
  {
   "cell_type": "code",
   "execution_count": 123,
   "metadata": {},
   "outputs": [],
   "source": [
    "import math\n",
    "import pandas as pd\n",
    "import numpy as np\n",
    "import matplotlib.pyplot as plt"
   ]
  },
  {
   "cell_type": "code",
   "execution_count": 124,
   "metadata": {},
   "outputs": [],
   "source": [
    "def function(x,y):\n",
    "    return (1 - math.pow(x,2))*y + math.cos(x)* (1 - x + math.pow(x,3)) - x*math.sin(x)"
   ]
  },
  {
   "cell_type": "code",
   "execution_count": 125,
   "metadata": {},
   "outputs": [],
   "source": [
    "def runge_kutta_2_order_method():\n",
    "    \n",
    "    h=0.1\n",
    "    interval=1\n",
    "    n=int(interval/h)+1\n",
    "\n",
    "    x=[0]*n\n",
    "    y=[0]*n\n",
    "\n",
    "    for i in range(1,n):\n",
    "        x[i] = x[i - 1] + h\n",
    "    \n",
    "\n",
    "    y[0] = x[0]*math.cos(x[0])\n",
    "\n",
    "    for i in range(0,n-1):\n",
    "\n",
    "        k1=function(x[i],y[i])\n",
    "        k2=h*function(x[i]+h,y[i]+k1)\n",
    "\n",
    "        y[i+1]=y[i]+(k1+k2)/2\n",
    "\n",
    "\n",
    "    return x,y"
   ]
  },
  {
   "cell_type": "code",
   "execution_count": 126,
   "metadata": {},
   "outputs": [],
   "source": [
    "def runge_kutta_4_order_method():\n",
    "\n",
    "    h=0.1\n",
    "    interval=1\n",
    "    n=int(interval/h)+1\n",
    "\n",
    "    x=[0]*n\n",
    "    y=[0]*n\n",
    "\n",
    "    for i in range(1,n):\n",
    "        x[i] = x[i - 1] + h\n",
    "    \n",
    "\n",
    "    y[0] = x[0]*math.cos(x[0])\n",
    "\n",
    "    for i in range(0,n-1):\n",
    "\n",
    "        k1=h*function(x[i],y[i])\n",
    "        k2=h*function(x[i]+h/2,y[i]+k1/2)\n",
    "        k3=h*function(x[i]+h/2,y[i]+k2/2)\n",
    "        k4=h*function(x[i]+h,y[i]+k3)\n",
    "\n",
    "        y[i+1]=y[i]+(k1+2*k2+2*k3+k4)/6\n",
    "\n",
    "\n",
    "    return x,y"
   ]
  },
  {
   "cell_type": "code",
   "execution_count": 127,
   "metadata": {},
   "outputs": [],
   "source": [
    "x2,y2=runge_kutta_2_order_method()\n",
    "x4,y4=runge_kutta_4_order_method()"
   ]
  },
  {
   "cell_type": "code",
   "execution_count": 128,
   "metadata": {},
   "outputs": [
    {
     "data": {
      "text/html": [
       "<div>\n",
       "<style scoped>\n",
       "    .dataframe tbody tr th:only-of-type {\n",
       "        vertical-align: middle;\n",
       "    }\n",
       "\n",
       "    .dataframe tbody tr th {\n",
       "        vertical-align: top;\n",
       "    }\n",
       "\n",
       "    .dataframe thead th {\n",
       "        text-align: right;\n",
       "    }\n",
       "</style>\n",
       "<table border=\"1\" class=\"dataframe\">\n",
       "  <thead>\n",
       "    <tr style=\"text-align: right;\">\n",
       "      <th></th>\n",
       "      <th>x</th>\n",
       "      <th>y</th>\n",
       "      <th></th>\n",
       "      <th>x</th>\n",
       "      <th>y</th>\n",
       "    </tr>\n",
       "  </thead>\n",
       "  <tbody>\n",
       "    <tr>\n",
       "      <th>0</th>\n",
       "      <td>0.0</td>\n",
       "      <td>0.000000</td>\n",
       "      <td></td>\n",
       "      <td>0.0</td>\n",
       "      <td>0.000000</td>\n",
       "    </tr>\n",
       "    <tr>\n",
       "      <th>1</th>\n",
       "      <td>0.1</td>\n",
       "      <td>0.593826</td>\n",
       "      <td></td>\n",
       "      <td>0.1</td>\n",
       "      <td>0.099500</td>\n",
       "    </tr>\n",
       "    <tr>\n",
       "      <th>2</th>\n",
       "      <td>0.2</td>\n",
       "      <td>1.467910</td>\n",
       "      <td></td>\n",
       "      <td>0.2</td>\n",
       "      <td>0.196013</td>\n",
       "    </tr>\n",
       "    <tr>\n",
       "      <th>3</th>\n",
       "      <td>0.3</td>\n",
       "      <td>2.744012</td>\n",
       "      <td></td>\n",
       "      <td>0.3</td>\n",
       "      <td>0.286601</td>\n",
       "    </tr>\n",
       "    <tr>\n",
       "      <th>4</th>\n",
       "      <td>0.4</td>\n",
       "      <td>4.563837</td>\n",
       "      <td></td>\n",
       "      <td>0.4</td>\n",
       "      <td>0.368424</td>\n",
       "    </tr>\n",
       "    <tr>\n",
       "      <th>5</th>\n",
       "      <td>0.5</td>\n",
       "      <td>7.055994</td>\n",
       "      <td></td>\n",
       "      <td>0.5</td>\n",
       "      <td>0.438791</td>\n",
       "    </tr>\n",
       "    <tr>\n",
       "      <th>6</th>\n",
       "      <td>0.6</td>\n",
       "      <td>10.269877</td>\n",
       "      <td></td>\n",
       "      <td>0.6</td>\n",
       "      <td>0.495201</td>\n",
       "    </tr>\n",
       "    <tr>\n",
       "      <th>7</th>\n",
       "      <td>0.7</td>\n",
       "      <td>14.076902</td>\n",
       "      <td></td>\n",
       "      <td>0.7</td>\n",
       "      <td>0.535389</td>\n",
       "    </tr>\n",
       "    <tr>\n",
       "      <th>8</th>\n",
       "      <td>0.8</td>\n",
       "      <td>18.066386</td>\n",
       "      <td></td>\n",
       "      <td>0.8</td>\n",
       "      <td>0.557365</td>\n",
       "    </tr>\n",
       "    <tr>\n",
       "      <th>9</th>\n",
       "      <td>0.9</td>\n",
       "      <td>21.502615</td>\n",
       "      <td></td>\n",
       "      <td>0.9</td>\n",
       "      <td>0.559449</td>\n",
       "    </tr>\n",
       "    <tr>\n",
       "      <th>10</th>\n",
       "      <td>1.0</td>\n",
       "      <td>23.435465</td>\n",
       "      <td></td>\n",
       "      <td>1.0</td>\n",
       "      <td>0.540302</td>\n",
       "    </tr>\n",
       "  </tbody>\n",
       "</table>\n",
       "</div>"
      ],
      "text/plain": [
       "      x          y       x         y\n",
       "0   0.0   0.000000     0.0  0.000000\n",
       "1   0.1   0.593826     0.1  0.099500\n",
       "2   0.2   1.467910     0.2  0.196013\n",
       "3   0.3   2.744012     0.3  0.286601\n",
       "4   0.4   4.563837     0.4  0.368424\n",
       "5   0.5   7.055994     0.5  0.438791\n",
       "6   0.6  10.269877     0.6  0.495201\n",
       "7   0.7  14.076902     0.7  0.535389\n",
       "8   0.8  18.066386     0.8  0.557365\n",
       "9   0.9  21.502615     0.9  0.559449\n",
       "10  1.0  23.435465     1.0  0.540302"
      ]
     },
     "metadata": {},
     "output_type": "display_data"
    }
   ],
   "source": [
    "runge_kutta_2_order = {'x': x2, 'y': y2}\n",
    "spaces = {' ': [' ']*len(x2)}\n",
    "runge_kutta_4_order = {'x': x4, 'y': y4}\n",
    "\n",
    "runge_kutta_2_order=pd.DataFrame(runge_kutta_2_order)\n",
    "runge_kutta_4_order=pd.DataFrame(runge_kutta_4_order)\n",
    "\n",
    "result = pd.concat([runge_kutta_2_order,pd.DataFrame(spaces), runge_kutta_4_order], axis=1)\n",
    "\n",
    "display(result)"
   ]
  },
  {
   "cell_type": "code",
   "execution_count": 129,
   "metadata": {},
   "outputs": [
    {
     "data": {
      "image/png": "[encoded data removed]",
      "text/plain": [
       "<Figure size 640x480 with 1 Axes>"
      ]
     },
     "metadata": {},
     "output_type": "display_data"
    }
   ],
   "source": [
    "plt.scatter(x2,y2)\n",
    "plt.show()"
   ]
  },
  {
   "cell_type": "code",
   "execution_count": 130,
   "metadata": {},
   "outputs": [
    {
     "data": {
      "image/png": "[encoded data removed]",
      "text/plain": [
       "<Figure size 640x480 with 1 Axes>"
      ]
     },
     "metadata": {},
     "output_type": "display_data"
    }
   ],
   "source": [
    "plt.scatter(x4,y4)\n",
    "plt.show()"
   ]
  }
 ],
 "metadata": {
  "kernelspec": {
   "display_name": "Python 3.8.10 64-bit",
   "language": "python",
   "name": "python3"
  },
  "language_info": {
   "codemirror_mode": {
    "name": "ipython",
    "version": 3
   },
   "file_extension": ".py",
   "mimetype": "text/x-python",
   "name": "python",
   "nbconvert_exporter": "python",
   "pygments_lexer": "ipython3",
   "version": "3.8.10"
  },
  "orig_nbformat": 4,
  "vscode": {
   "interpreter": {
    "hash": "916dbcbb3f70747c44a77c7bcd40155683ae19c65e1c03b4aa3499c5328201f1"
   }
  }
 },
 "nbformat": 4,
 "nbformat_minor": 2
}
